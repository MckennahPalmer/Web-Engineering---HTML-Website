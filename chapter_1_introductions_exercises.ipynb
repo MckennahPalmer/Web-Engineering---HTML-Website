{
  "cells": [
    {
      "cell_type": "markdown",
      "metadata": {
        "id": "view-in-github",
        "colab_type": "text"
      },
      "source": [
        "<a href=\"https://colab.research.google.com/github/MckennahPalmer/Web-Engineering---HTML-Website/blob/main/chapter_1_introductions_exercises.ipynb\" target=\"_parent\"><img src=\"https://colab.research.google.com/assets/colab-badge.svg\" alt=\"Open In Colab\"/></a>"
      ]
    },
    {
      "cell_type": "markdown",
      "metadata": {
        "id": "_Mr3AvSgSswx"
      },
      "source": [
        "# <font color=blue>Chapter 1 Introductions Exercises</font>\n",
        "## <font color=blue>Prepare</font>"
      ]
    },
    {
      "cell_type": "markdown",
      "metadata": {
        "id": "8XvwK_3oBEEF"
      },
      "source": [
        "**Instructions:** Do your best to answer the following questions. Use any resources at your disposal to try and solve them. You are highly encouraged to write some Python code to help you and to illuminate your answers. \n",
        "\n",
        "1. First, make a copy of this Colab Notebook to your GitHub account as a GitHub Gist (File -> Save a copy as a GitHub Gist). This will allow you to save any changes you make.\n",
        "\n",
        "2. Now enter your answers to each question in the places shown below. \n",
        "\n",
        "3. To submit your work, turn in the URL for your Colab notebook. Make sure the URL has `gist` in it. It should look something like this:\n",
        "`https://colab.research.google.com/gist/yourgithubusername/somerandomnumbersandletters/chapter-1-introductions-exercises.ipynb`"
      ]
    },
    {
      "cell_type": "markdown",
      "metadata": {
        "id": "yZQPenktDawj"
      },
      "source": [
        "## Exercise 1.4.1"
      ]
    },
    {
      "cell_type": "markdown",
      "metadata": {
        "id": "MWM4oPFgBEEG"
      },
      "source": [
        "The operation called *dehydration* takes a word and deletes all letters in it from H to O. What is the original (rehydrated) text of this\n",
        "dehydrated sequence of words?\n",
        "\n",
        "TE TE AS CE TE WARUS SAD T TA F AY TGS F SES AD SPS AD\n",
        "SEAG WAX F CABBAGES AD GS AD WY TE SEA S BG T AD WETER\n",
        "PGS AVE WGS"
      ]
    },
    {
      "cell_type": "markdown",
      "metadata": {
        "id": "JA6lbLsHBEEH"
      },
      "source": [
        "*Write your answer here by editing this cell*"
      ]
    },
    {
      "cell_type": "code",
      "execution_count": 2,
      "metadata": {
        "id": "grGz5nFcBEEH",
        "colab": {
          "base_uri": "https://localhost:8080/"
        },
        "outputId": "7f22319f-e320-4946-f931-97e59508b301"
      },
      "outputs": [
        {
          "output_type": "stream",
          "name": "stdout",
          "text": [
            "The time has come the walrus said to talk of many things of shoes and ships and sealing wax of cabbages and kings and why the sea is boiling hot and whether pigs have wings.\n"
          ]
        }
      ],
      "source": [
        "# Include any python code you wrote to illuminate your answer here\n",
        "# in this Jupyter Notebook code cell\n",
        "\n",
        "print(\"The time has come the walrus said to talk of many things of shoes and ships and sealing wax of cabbages and kings and why the sea is boiling hot and whether pigs have wings.\")"
      ]
    },
    {
      "cell_type": "markdown",
      "metadata": {
        "id": "aqngF-1JDkvy"
      },
      "source": [
        "## Exercise 1.4.2"
      ]
    },
    {
      "cell_type": "markdown",
      "metadata": {
        "id": "Wp8-Gi6DBEEJ"
      },
      "source": [
        "What English word has the largest *finite* consonant-vowel-ratio\n",
        "(CVR)? For example, the CVRs of the words (including the TLA)\n",
        "in the previous sentence are 3:1, 5:2, 3:1, 2:1, 2:1, 5:2, 1:1, 2:1,\n",
        "3:2, 2:3, and 3:0 — say n:0, which is n/0, is infinity for any positive integer n. Which is to say that “words” with no vowels are\n",
        "disqualified (because CVRs must be finite)."
      ]
    },
    {
      "cell_type": "markdown",
      "metadata": {
        "id": "09nLJAdhBEEK"
      },
      "source": [
        "*Write your answer here by editing this cell*"
      ]
    },
    {
      "cell_type": "code",
      "execution_count": 11,
      "metadata": {
        "id": "XEYtbKi4BEEL",
        "colab": {
          "base_uri": "https://localhost:8080/"
        },
        "outputId": "ad71f39d-cca3-4320-dc26-3e28d8402155"
      },
      "outputs": [
        {
          "output_type": "stream",
          "name": "stdout",
          "text": [
            "Rhythms\n",
            "I just checked the answer and I was wrong. It was strengths.\n"
          ]
        }
      ],
      "source": [
        "# Include any python code you wrote to illuminate your answer here\n",
        "# in this Jupyter Notebook code cell\n",
        "\n",
        "print(\"Rhythms\")\n",
        "\n",
        "print(\"I just checked the answer and I was wrong. It was strengths.\")"
      ]
    },
    {
      "cell_type": "markdown",
      "metadata": {
        "id": "KceTy3lmBEEL"
      },
      "source": [
        "## Exercise 1.4.3"
      ]
    },
    {
      "cell_type": "markdown",
      "metadata": {
        "id": "_VK8Gbw1BEEM"
      },
      "source": [
        "Do you think mathematicians discover or invent patterns? While\n",
        "pondering that question, consider what G. H. Hardy famously wrote:\n",
        "*A mathematician, like a painter or a poet, is a maker of patterns.\n",
        "If his patterns are more permanent than theirs, it is because they\n",
        "are made with ideas.* What do you think he meant by that?\n",
        "\n",
        "Pick a number (a positive integer). Form the product of: that number, one more than that number, and one more than twice that\n",
        "number. Repeat for several different numbers. There is a pattern\n",
        "to these products. What is it?"
      ]
    },
    {
      "cell_type": "markdown",
      "metadata": {
        "id": "2pwsZjKkBEEM"
      },
      "source": [
        "*Write your answer here by editing this cell*"
      ]
    },
    {
      "cell_type": "code",
      "execution_count": 10,
      "metadata": {
        "id": "E91p4UUTBEEM",
        "colab": {
          "base_uri": "https://localhost:8080/"
        },
        "outputId": "86ace0e3-e7e3-4b72-e681-9a87526b897a"
      },
      "outputs": [
        {
          "output_type": "stream",
          "name": "stdout",
          "text": [
            "I think what he is saying is that patterns are beautiful and math can be its own form of art. Math will be more widely recognized because of its use and everyday patterns.\n",
            "\n",
            "1\n",
            "5\n",
            "14\n",
            "30\n",
            "55\n"
          ]
        }
      ],
      "source": [
        "# Include any python code you wrote to illuminate your answer here\n",
        "# in this Jupyter Notebook code cell\n",
        "\n",
        "# Answer to what he may of meant\n",
        "print(\"I think what he is saying is that patterns are beautiful and math can be its own form of art. Math will be more widely recognized because of its use and everyday patterns.\\n\")\n",
        "\n",
        "# Answer to Pick a number\n",
        "def pyramidNumber(n):\n",
        "  return (n * (n + 1) * (2 * n + 1)) // 6\n",
        "\n",
        "for n in range(1, 6):\n",
        "  print(pyramidNumber(n))"
      ]
    },
    {
      "cell_type": "markdown",
      "metadata": {
        "id": "KBEUQkdhECru"
      },
      "source": [
        "## Exercise 1.4.4"
      ]
    },
    {
      "cell_type": "markdown",
      "metadata": {
        "id": "OIDN7W6HBEEN"
      },
      "source": [
        "Find the connection between the bolded portions of the words\n",
        "**MAKE** **HI**M **FOCU**S and the numbers 9, 0, 7, 1, 5, 2, 3, 3, 1, and 4."
      ]
    },
    {
      "cell_type": "markdown",
      "metadata": {
        "id": "E_TiOYmyBEEN"
      },
      "source": [
        "*Write your answer here by editing this cell*"
      ]
    },
    {
      "cell_type": "code",
      "execution_count": 15,
      "metadata": {
        "id": "bbhS5ZgeBEEN",
        "colab": {
          "base_uri": "https://localhost:8080/"
        },
        "outputId": "ae239d70-6a30-4504-9c16-4c30d1b90179"
      },
      "outputs": [
        {
          "output_type": "stream",
          "name": "stdout",
          "text": [
            "[9, 0, 7, 1, 5, 2, 3, 3, 1, 4]\n",
            "I had to look at the hint for this one.\n"
          ]
        }
      ],
      "source": [
        "# Include any python code you wrote to illuminate your answer here\n",
        "# in this Jupyter Notebook code cell\n",
        "\n",
        "vowels = ['A','E','I','O','U']\n",
        "consonants = ['B','C','D','F','G','H','J','K','L','M','N','P','Q','R','S','T','V','W','X','Y','Z']\n",
        "\n",
        "stored = lambda c:[consonants,vowels][c in vowels].index(c)\n",
        "answer = [*map(stored,\"MAKEHIFOCU\")]\n",
        "\n",
        "print(answer)\n",
        "print(\"I had to look at the hint for this one.\")"
      ]
    },
    {
      "cell_type": "markdown",
      "metadata": {
        "id": "bJCecV49BEEO"
      },
      "source": [
        "## Exercise 1.4.5"
      ]
    },
    {
      "cell_type": "markdown",
      "metadata": {
        "id": "EslOUWMHBEEO"
      },
      "source": [
        "In this figure, the innermost circle has radius 1. It is circumscribed by an equilateral triangle, which is circumscribed by a\n",
        "circle, which is circumscribed by a square, which is circumscribed\n",
        "by yet another circle, and so the pattern continues. What is the\n",
        "radius of the outermost circle?\n",
        "\n",
        "![circle](https://github.com/byui-cse/cse280-course-notebooks/blob/main/notebooks/images/fig-circumscribed-polygons-and-circles.png?raw=1)"
      ]
    },
    {
      "cell_type": "markdown",
      "metadata": {
        "id": "xybdnn7EBEEO"
      },
      "source": [
        "*Write your answer here by editing this cell*"
      ]
    },
    {
      "cell_type": "code",
      "execution_count": 17,
      "metadata": {
        "id": "vXfpODldBEEO",
        "colab": {
          "base_uri": "https://localhost:8080/"
        },
        "outputId": "13dce1ae-d9d5-4afc-8419-d2fe2150baf3"
      },
      "outputs": [
        {
          "output_type": "stream",
          "name": "stdout",
          "text": [
            "The value of R is aproximately 8.7000\n"
          ]
        }
      ],
      "source": [
        "# Include any python code you wrote to illuminate your answer here\n",
        "# in this Jupyter Notebook code cell\n",
        "\n",
        "print(\"The value of R is aproximately 8.7000\")"
      ]
    },
    {
      "cell_type": "markdown",
      "metadata": {
        "id": "lOeHrhgDBEEP"
      },
      "source": [
        "## Hints and Answers"
      ]
    },
    {
      "cell_type": "markdown",
      "metadata": {
        "id": "fLIKG9ZmdG5-"
      },
      "source": [
        "Here are links to the Hints and Answers for the five Chapter 1.4 exercises. Try to do the exercises on your own first. Then look at the hints to help you proceed. Finally, compare your answers with the answers shown below. \n",
        "\n",
        "Your code does not need to be the same as or even close to the sample solutions. This is your chance to compare and contrast your code with these possible solutions/illuminations and take note of any improvements you could make for the future.\n",
        "\n",
        "[Hints](https://colab.research.google.com/github/byui-cse/cse280-course-notebooks/blob/main/notebooks/chapter-1-introductions-exercises-hints.ipynb)\n",
        "\n",
        "[Answers](https://colab.research.google.com/github/byui-cse/cse280-course-notebooks/blob/main/notebooks/chapter-1-introductions-exercises-answers-1dtnfeZCwywv1jnxk6wKgrCpmBhDPhigx.ipynb)\n",
        "\n",
        "You will have to do a little more work, though, to get to the Answers. You'll need to do that work in order to check the boxes accurately where you are asked to answer \"What is True?\" and assert (or not) that you got the right answers to these five exercises.\n",
        "\n",
        "A simple transformation was applied to the GUID (Globally Unique ID) in the file link. You will need to reverse that transformation and splice back in the original GUID to make the link valid. Splice it in by modifying the code cell below and running it.\n",
        "\n",
        "As for what that transformation could be? --- think Hints!\n",
        "\n",
        "(If you can't figure it out after noodling on it for 10 or so minutes, reach out to a classmate, the TA, or your instructor.)"
      ]
    },
    {
      "cell_type": "code",
      "execution_count": 18,
      "metadata": {
        "id": "1XTOnEmicVnd",
        "colab": {
          "base_uri": "https://localhost:8080/",
          "height": 46
        },
        "outputId": "c8938147-ea2e-4802-e8ad-234e17d863bb"
      },
      "outputs": [
        {
          "output_type": "display_data",
          "data": {
            "text/markdown": "[Answers](https://colab.research.google.com/github/byui-cse/cse280-course-notebooks/blob/main/notebooks/chapter-1-introductions-exercises-answers-0.ipynb)",
            "text/plain": [
              "<IPython.core.display.Markdown object>"
            ]
          },
          "metadata": {}
        }
      ],
      "source": [
        "from IPython.display import Markdown\n",
        "transformed_GUID = '1dtnfeZCwywv1jnxk6wKgrCpmBhDPhigx'\n",
        "original_GUID = '0' # replace 0 with the reverse-transformed transformed_GUID\n",
        "# The actual link:\n",
        "display(Markdown('[Answers](https://colab.research.google.com/github/byui-cse/cse280-course-notebooks/blob/main/notebooks/chapter-1-introductions-exercises-answers-'+original_GUID+'.ipynb)'))"
      ]
    }
  ],
  "metadata": {
    "colab": {
      "collapsed_sections": [],
      "name": "chapter-1-introductions-exercises.ipynb",
      "provenance": [],
      "toc_visible": true,
      "include_colab_link": true
    },
    "kernelspec": {
      "display_name": "Python 3",
      "language": "python",
      "name": "python3"
    },
    "language_info": {
      "codemirror_mode": {
        "name": "ipython",
        "version": 3
      },
      "file_extension": ".py",
      "mimetype": "text/x-python",
      "name": "python",
      "nbconvert_exporter": "python",
      "pygments_lexer": "ipython3",
      "version": "3.9.0"
    }
  },
  "nbformat": 4,
  "nbformat_minor": 0
}