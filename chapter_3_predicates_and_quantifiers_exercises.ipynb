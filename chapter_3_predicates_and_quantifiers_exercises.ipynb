{
  "cells": [
    {
      "cell_type": "markdown",
      "metadata": {
        "id": "view-in-github",
        "colab_type": "text"
      },
      "source": [
        "<a href=\"https://colab.research.google.com/github/MckennahPalmer/Web-Engineering---HTML-Website/blob/main/chapter_3_predicates_and_quantifiers_exercises.ipynb\" target=\"_parent\"><img src=\"https://colab.research.google.com/assets/colab-badge.svg\" alt=\"Open In Colab\"/></a>"
      ]
    },
    {
      "cell_type": "markdown",
      "source": [
        "# <font color=blue>Chapter 3 Predicates and Quantifiers Exercises</font>\n",
        "## <font color=blue>Prepare</font>"
      ],
      "metadata": {
        "id": "TnVHqhsGXNRo"
      }
    },
    {
      "cell_type": "markdown",
      "source": [
        "## <font color=red>3.12 Quantifiers</font>"
      ],
      "metadata": {
        "id": "yAbrb0Rjw5PN"
      }
    },
    {
      "cell_type": "markdown",
      "source": [
        "### Exercise 3.12.1"
      ],
      "metadata": {
        "id": "Fd-nWFj1foSb"
      }
    },
    {
      "cell_type": "markdown",
      "source": [
        "The domain of discourse for this exercise is the set of all people, and:\n",
        "* $P(x) = x$ is older than 21\n",
        "* $S(x) = x$ is a student\n",
        "\n",
        "Express in good English the following statements:\n",
        "1. $\\exists x\\ P(x)$.\n",
        "2. $\\forall x\\ P(x)$.\n",
        "3. $\\exists x\\ \\lnot P(x)$.\n",
        "4. $\\forall x\\ \\lnot P(x)$.\n",
        "5. $\\exists x\\ S(x)$.\n",
        "6. $\\forall x\\ S(x)$.\n",
        "7. $\\lnot \\exists x\\ S(x)$.\n",
        "8. $\\exists x\\ \\lnot S(x)$.\n",
        "9. $\\lnot \\forall x\\ \\lnot S(x)$.\n",
        "10. $\\forall x\\ \\lnot S(x)$."
      ],
      "metadata": {
        "id": "8Utd8McNw5PO"
      }
    },
    {
      "cell_type": "markdown",
      "source": [
        "1. Somebody is older than 21\n",
        "2. Everybody is older than 21\n",
        "3. Somebody is not older than 21\n",
        "4. Everybody is not older than 21\n",
        "5. Somebody is a student\n",
        "6. Everybody is a student\n",
        "7. There isn't any students?\n",
        "8. Somebody is not a student\n",
        "9. Nobody is not a student?\n",
        "10. Everybody is not a student"
      ],
      "metadata": {
        "id": "ep42wwY5yFBK"
      }
    },
    {
      "cell_type": "code",
      "execution_count": null,
      "source": [
        "#@title Hint {display-mode: \"form\"}\n",
        "print('''\n",
        "1. Don't use the word 'exists'.\n",
        "2. Don't use the word 'all'.\n",
        "3. Use the word `someone'.\n",
        "4. 'No one' sounds better than 'Everyone is not'.\n",
        "5. `Some' <something> `is a' <something else>.\n",
        "6. Start with 'Everyone'.\n",
        "7. Start with 'There is'.\n",
        "8. Start with 'There is'\n",
        "9. Start with 'No all'.\n",
        "10. Start with 'No one'.\n",
        "''')"
      ],
      "outputs": [],
      "metadata": {
        "id": "mTbD83STWV66"
      }
    },
    {
      "cell_type": "code",
      "execution_count": null,
      "source": [
        "#@title Answer {display-mode: \"form\"}\n",
        "print('''\n",
        "1. Somebody is older than 21.\n",
        "2. Everyone is older than 21.\n",
        "3. Someone is not older than 21.\n",
        "4. No one is older than 21.\n",
        "5. Someone (or some person) is a student.\n",
        "6. Everyone is a student.\n",
        "7. There is no student.\n",
        "8. There is someone who is not a student.\n",
        "9. Not all people are non-students.\n",
        "10. No one is a student.\n",
        "''')"
      ],
      "outputs": [],
      "metadata": {
        "id": "42a7AycOWWfS"
      }
    },
    {
      "cell_type": "markdown",
      "source": [
        "### Exercise 3.12.2"
      ],
      "metadata": {
        "id": "LOidAiIjpGFO"
      }
    },
    {
      "cell_type": "markdown",
      "source": [
        "The domain of discourse for this exercise is the set of all people, and:\n",
        "* $F(x) = x$ is a friend\n",
        "* $C(x) = x$ is cool\n",
        "* $S(x) = x$ is a student\n",
        "* $N(x) = x$ is from Nepal\n",
        "\n",
        "Express in good English the following statements:\n",
        "1. $\\forall x\\ (F(x) \\rightarrow C(x))$.\n",
        "2. $\\exists x\\ (F(x) \\land C(x))$.\n",
        "3. $\\forall x\\ (F(x) \\land C(x))$.\n",
        "4. $\\exists x\\ (F(x) \\rightarrow C(x))$.\n",
        "5. $\\forall x\\ (S(x) \\rightarrow N(x))$.\n",
        "6. $\\exists x\\ (S(x) \\rightarrow N(x))$.\n",
        "7. $\\forall x\\ (S(x) \\land N(x))$.\n",
        "8. $\\exists x\\ (S(x) \\land N(x))$.\n",
        " "
      ],
      "metadata": {
        "id": "tCdbghBApIWA"
      }
    },
    {
      "cell_type": "markdown",
      "source": [
        "1. All friends are cool?\n",
        "2. Somebody is a friend and is cool\n",
        "3. Everybody is a friend and is cool\n",
        "4. Some friends are cool?\n",
        "5. All students are from Nepal?\n",
        "6. Some students are from Nepal?\n",
        "7. Everybody is a student and is from Nepal\n",
        "8. Sombody is a student and is from Nepal"
      ],
      "metadata": {
        "id": "8CsJ7X3hzCfI"
      }
    },
    {
      "cell_type": "code",
      "execution_count": null,
      "source": [
        "#@title Hint {display-mode: \"form\"}\n",
        "print('''\n",
        "1. Start with 'All'.\n",
        "2. Start with 'Some'.\n",
        "3. Start with 'Everyone'.\n",
        "4. Start with 'Some'.\n",
        "5. Start with 'All'.\n",
        "6. Start with 'Someone' and use 'if' and 'then'.\n",
        "7. Start with 'Everyone'.\n",
        "8. 'Some student ...'.\n",
        "''')"
      ],
      "outputs": [],
      "metadata": {
        "id": "Ud2ILiJbuAxx"
      }
    },
    {
      "cell_type": "code",
      "execution_count": null,
      "source": [
        "#@title Answer {display-mode: \"form\"}\n",
        "print('''\n",
        "1. All friends are cool.\n",
        "2. Someone is a friend and is cool.\n",
        "3. Everyone is a friend and is cool.\n",
        "4. Some friends are cool. (Better than 'For some person, if that person is a friend, then that person is cool.')\n",
        "5. All students are from Nepal.\n",
        "6. Someone, if he/she is a student then he/she is from Nepal. (Better than 'For some person, if that person is a student, then that student is from Nepal.)\n",
        "7. Everyone is a student and is from Nepal.\n",
        "8. Some student is from Nepal.\n",
        "''')"
      ],
      "outputs": [],
      "metadata": {
        "id": "mz91zQ_NuA-Q"
      }
    },
    {
      "cell_type": "markdown",
      "source": [
        "### Exercise 3.12.3"
      ],
      "metadata": {
        "id": "le4z-RBmuh6p"
      }
    },
    {
      "cell_type": "markdown",
      "source": [
        "Translate the following statements into logical expressions using predicates, quantifiers, and logical connectives:\n",
        "1. Everyone's a critic.\n",
        "2. No one is perfect.\n",
        "3. At least one of your friends is perfect.\n",
        "4. All of your friends are critics.\n",
        "5. Everyone is a critic or someone is your friend.\n",
        "6. No one is a critic and everyone is your friend.\n",
        "7. Some state has no neighboring states.\n",
        "8. Whenever there is an error, at least one error message is displayed.\n",
        "9. All the programs have been scanned, but at least one program has a virus."
      ],
      "metadata": {
        "id": "Hplq9f-xuh6p"
      }
    },
    {
      "cell_type": "markdown",
      "source": [
        "* P(𝑥)=𝑥  is perfect\n",
        "* 𝐶(𝑥)=𝑥  is a critic\n",
        "* F(𝑥)=𝑥  is a friend\n",
        "* S(𝑥)=𝑥  is a state\n",
        "* N(x)=x  is a neighboring state\n",
        "* E(x)=x  is a error\n",
        "* M(x)=x  is a error message\n",
        "* SS(x)=x is scanned\n",
        "* V(x)=x  is a virus\n",
        "\n",
        "1. $\\forall x\\ C(x)$.\n",
        "2. $\\forall x\\ \\lnot P(x)$.\n",
        "3. $\\exists x\\ (F(x) \\rightarrow p(x))$.\n",
        "4. $\\forall x\\ (F(x) \\rightarrow C(x))$.\n",
        "5. $\\forall x\\ C(x) \\lor \\exists x\\ F(x)$.\n",
        "6. $\\forall x\\ \\lnot C(x) \\land \\forall x\\ F(x)$.\n",
        "7. $\\exists x\\ S(x) \\rightarrow \\lnot N(x)$.\n",
        "8. $\\forall x\\ E(x) \\rightarrow M(x)$.\n",
        "9. $\\forall x\\ SS(x) \\rightarrow \\exists x\\ V(x)$."
      ],
      "metadata": {
        "id": "3ycfDbgy0Kfx"
      }
    },
    {
      "cell_type": "markdown",
      "source": [
        ""
      ],
      "metadata": {
        "id": "c6KIu9bK0E3e"
      }
    },
    {
      "cell_type": "code",
      "execution_count": null,
      "source": [
        "#@title Hint {display-mode: \"form\"}\n",
        "print('''\n",
        "1. Use the predicates C (is a Critic), P (is Perfect), and F (is your Friend).\n",
        "2. Remember to push the negation sign to the right of the quantifier (and change the flavor of the quantifier).\n",
        "3. Remember which connective to use with the existential quantifier?\n",
        "4. Remember which connective to use with the universal quantifier?\n",
        "5. This looks like the disjunction of two quantified statements.\n",
        "6. This looks like the conjunction of two quantified statements, one of them negated.\n",
        "7. Use a unary *and* a binary predicate.\n",
        "8. There are two different domains at play here.\n",
        "9. Use three predicates with programs as their domain.\n",
        "''')"
      ],
      "outputs": [],
      "metadata": {
        "id": "rtHun4Eiuh6q"
      }
    },
    {
      "cell_type": "code",
      "execution_count": null,
      "source": [
        "#@title Answer {display-mode: \"form\"}\n",
        "from IPython.display import Markdown\n",
        "display(Markdown('''\n",
        "1. $\\\\forall x\\\\ C(x)$\n",
        "2. $\\\\forall x\\\\ \\\\lnot P(x)$\n",
        "3. $\\\\exists x\\\\ (F(x) \\\\land P(x))$\n",
        "4. $\\\\forall x\\\\ (F(x) \\\\rightarrow C(x))$\n",
        "5. $\\\\forall x\\\\ C(x) \\\\lor \\\\exists x\\\\ F(x)$\n",
        "6. $\\\\lnot \\\\exists x\\\\ C(x) \\\\land \\\\forall x\\\\ F(x)$\n",
        "7. $\\\\exists x\\\\ State(x) \\\\land (\\\\forall y\\\\ State(y) \\\\rightarrow \\\\lnot ShareABorder(x, y))$\n",
        "8. $\\\\exists x\\\\ is\\_an\\_Error(x) \\\\rightarrow (\\\\exists y\\\\ is\\_an\\_error\\_Message(y) \\\\land is\\_Displayed(y))$\n",
        "9. $[\\\\forall x\\\\ (is\\_a\\_Program(x) \\\\rightarrow has\\_been\\_Scanned(x))] \\\\land [\\\\exists x\\\\ (is\\_a\\_Program(x) \\\\land has\\_a\\_Virus(x))]$\n",
        "'''))"
      ],
      "outputs": [],
      "metadata": {
        "id": "WmpQNI1Auh6q"
      }
    },
    {
      "cell_type": "markdown",
      "source": [
        "## <font color=red>3.13 Negating Quantifiers</font>"
      ],
      "metadata": {
        "id": "qTATYaqA9IFU"
      }
    },
    {
      "cell_type": "markdown",
      "source": [
        "### Exercise 3.13.1"
      ],
      "metadata": {
        "id": "IXDTyw-qG83G"
      }
    },
    {
      "cell_type": "markdown",
      "source": [
        "Express the following statements using quantifiers; then form the negation of the statement so that no $\\lnot$ is to the left of a quantifier; then express the negation in simple English.\n",
        "\n",
        "1. All horses have hooves.\n",
        "2. No horse can fly.\n",
        "3. Every bat is blind.\n",
        "4. No bear can dance.\n",
        "5. There is at least one penguin that can swim and catch fish."
      ],
      "metadata": {
        "id": "1S_jxnGHG83L"
      }
    },
    {
      "cell_type": "markdown",
      "source": [
        "* H(𝑥)=𝑥  has hooves\n",
        "* F(𝑥)=𝑥  can fly\n",
        "* B(𝑥)=𝑥  is blind\n",
        "* D(𝑥)=𝑥  can dance\n",
        "* S(x)=x  can swim\n",
        "* C(x)=x  can catch fish\n",
        "* Horse(x)=x  is a horse\n",
        "* Bat(x)=x  is a bat\n",
        "* Bear(x)=x  is a bear\n",
        "* Penguin(x)=x  is a penguin\n",
        "\n",
        "1. $\\forall x\\ Horse(x) \\rightarrow H(x)$.  Negation: $\\forall x\\ Horse(x) \\rightarrow \\lnot H(x)$.\n",
        "2. $\\forall x\\ Horse(x) \\rightarrow \\lnot F(x)$. Negation: $\\forall x\\ Horse(x) \\rightarrow F(x)$.\n",
        "3. $\\forall x\\ Bat(x) \\rightarrow B(x)$. Negation: $\\forall x\\ Bat(x) \\rightarrow \\lnot B(x)$.\n",
        "4. $\\forall x\\ Bear(x) \\rightarrow \\lnot D(x)$. Negation: $\\forall x\\ Bear(x) \\rightarrow D(x)$.\n",
        "5. $\\exists x\\ Penguin(x) \\rightarrow (S(x) \\land C(x))$. Negation: $\\exists x\\ Penguin(x) \\rightarrow \\lnot (S(x) \\land C(x))$."
      ],
      "metadata": {
        "id": "MWqktkDH5Jng"
      }
    },
    {
      "cell_type": "code",
      "execution_count": null,
      "source": [
        "#@title Hint {display-mode: \"form\"}\n",
        "print('''\n",
        "1. Use the predicates H = is a horse, and V = has hooves.\n",
        "2. Use H as in Part 1, and the predicate F = can fly.\n",
        "3. This is like Part 1.\n",
        "4. Use B for Bear and D for Dance (as in 'can dance).\n",
        "5. Use three predicates with one quantifier.\n",
        "''')"
      ],
      "outputs": [],
      "metadata": {
        "id": "4DdLOMTgG83L"
      }
    },
    {
      "cell_type": "code",
      "execution_count": null,
      "source": [
        "#@title Answer {display-mode: \"form\"}\n",
        "from IPython.display import Markdown\n",
        "display(Markdown('''\n",
        "1. $\\\\forall x\\\\ H(x) \\\\rightarrow V(x)$; negated is $\\\\exists x\\\\ H(x) \\\\land \\\\lnot V(x)$ = 'Some horse does not have hooves.'\n",
        "2. $\\\\forall x\\\\ H(x) \\\\rightarrow \\\\lnot F(x)$; negated is $\\\\exists x\\\\ H(x) \\\\land F(x) =$ 'Some horse can fly'.\n",
        "3. $\\\\forall x\\\\ Bat(x) \\\\rightarrow Blind(x)$; negated is $\\\\exists x\\\\ Bat(x) \\\\land \\\\lnot Blind(x) =$ 'Some bat is not blind'.\n",
        "4. $\\\\forall x\\\\ B(x) \\\\rightarrow \\\\lnot D(x)$; negated is $\\\\exists x\\\\ bear(x) \\\\land D(x) =$ 'Some bear can dance'. \n",
        "5. $\\\\exists x\\\\ Penguin(x) \\\\land can\\_Swim(x) \\\\land can\\_Catch\\_Fish(x)$; negated is $\\\\forall x\\\\ \\\\lnot Penguin(x) \\\\lor \\\\lnot can\\_Swim(x) \\\\lor \\\\lnot can\\_Catch\\_Fish(x) = $ 'Everything is either a non-penguin or a non-swimmer or a non-fish-catcher' (or better: 'No penguin can swim and catch fish').\n",
        "'''))"
      ],
      "outputs": [],
      "metadata": {
        "id": "TD4mTN8yG83M"
      }
    },
    {
      "cell_type": "markdown",
      "source": [
        "### Exercise 3.13.2"
      ],
      "metadata": {
        "id": "huTlmPImune6"
      }
    },
    {
      "cell_type": "markdown",
      "source": [
        "The notation $\\exists !x\\ P(x)$ means \"There exisits a unique $x$ such that $P(x)$ is true.\"\n",
        "\n",
        "Let $\\mathbb{Z}$ be the domain for $x$.\n",
        "\n",
        "True or false? $\\exists !x\\ (x > 1)$.\n"
      ],
      "metadata": {
        "id": "nyeEfJKPune9"
      }
    },
    {
      "cell_type": "markdown",
      "source": [
        "False"
      ],
      "metadata": {
        "id": "eZYg3UhU87Al"
      }
    },
    {
      "cell_type": "code",
      "execution_count": null,
      "source": [
        "#@title Hint {display-mode: \"form\"}\n",
        "print('''\n",
        "How many numbers are greater than 1?!\n",
        "''')"
      ],
      "outputs": [],
      "metadata": {
        "id": "suSy3imqune9"
      }
    },
    {
      "cell_type": "code",
      "execution_count": null,
      "source": [
        "#@title Answer {display-mode: \"form\"}\n",
        "print('''\n",
        "The statement is false. There is not just one, but\n",
        "infinitely many integers are greater than one.\n",
        "''')"
      ],
      "outputs": [],
      "metadata": {
        "id": "FFarvEZWune-"
      }
    },
    {
      "cell_type": "markdown",
      "source": [
        "### Exercise 3.13.3"
      ],
      "metadata": {
        "id": "9Idm_9Dqv6kY"
      }
    },
    {
      "cell_type": "markdown",
      "source": [
        "Which of the following statements is/are true?\n",
        "1. $\\exists !x \\in \\mathbb{Z}\\ (x^{2} = 1)$.\n",
        "2. $\\exists !x \\in \\mathbb{Z}\\ (x + 3 = 2x)$.\n",
        "3. $\\exists !x \\in \\mathbb{Z}\\ (x = x + 1)$.\n",
        "4. $\\exists x \\in \\mathbb{R}\\ (x^{3} = -9)$.\n",
        "5. $\\exists x \\in \\mathbb{R}\\ (x^{4} > x^{2})$.\n",
        "6. $\\forall x \\in \\mathbb{R}\\ ((-x)^{2} = x^{2})$.\n",
        "7. $\\forall x \\in \\mathbb{R}\\ (2x > x)$."
      ],
      "metadata": {
        "id": "qXy5H4evv6kZ"
      }
    },
    {
      "cell_type": "markdown",
      "source": [
        "1. False\n",
        "2. True\n",
        "3. False\n",
        "4. True\n",
        "5. True\n",
        "6. True\n",
        "7. False"
      ],
      "metadata": {
        "id": "MngMLemm9HjN"
      }
    },
    {
      "cell_type": "code",
      "execution_count": null,
      "source": [
        "#@title Hint {display-mode: \"form\"}\n",
        "print('''\n",
        "1. The definition is in Exercise 3.13.2 in case you missed it.\n",
        "2. Just do the algebra.\n",
        "3. Algebra won't help here, but logical thinking will.\n",
        "4. Algebra works!\n",
        "5. Take advantage of the fact that both sides of the inequality are positive (or zero).\n",
        "6. A negative times a negative equals a what?\n",
        "7. Be careful here.\n",
        "''')"
      ],
      "outputs": [],
      "metadata": {
        "id": "WmAGKw21v6kZ"
      }
    },
    {
      "cell_type": "code",
      "execution_count": null,
      "source": [
        "#@title Answer {display-mode: \"form\"}\n",
        "print('''\n",
        "1. False. There are two: 1 and -1.\n",
        "2. True. x = 3 is the unique solution to the equation. \n",
        "3. False. There is no number (integer or otherwise) equal to one more than that number.\n",
        "4. True. The cube root of -9 exists and is a negative number.\n",
        "5. True. The inequality simplifies to 'x-squared is greater than 1', which has infinite solutions.\n",
        "6. True. A number squared is the same as the negative of that number squared.\n",
        "7. False. This fails for negative x.\n",
        "''')"
      ],
      "outputs": [],
      "metadata": {
        "id": "McP8e3jzv6ka"
      }
    },
    {
      "cell_type": "markdown",
      "source": [
        "### Exercise 3.13.4"
      ],
      "metadata": {
        "id": "Ps9VWGU6w5PO"
      }
    },
    {
      "cell_type": "markdown",
      "source": [
        "Let $E(x) = x$ is an excuse,\n",
        "\n",
        "$I(x) = x$ is ignored,\n",
        "\n",
        "$L(x) = x$ is a lie, and\n",
        "\n",
        "$R(x) = x$ is a reason,\n",
        "\n",
        "and let the domain for $x$ consist of all English words.\n",
        "\n",
        "Express each of these statements using quantifiers, logical connectives, and $E(x)$, $L(x)$, and $R(x)$:\n",
        "1. Some excuses are ignored.\n",
        "2. Not all lies are reasons.\n",
        "3. Some excuses are not reasons.\n",
        "4. Some excuses are lies.\n"
      ],
      "metadata": {
        "id": "3jCRLk4_pd5k"
      }
    },
    {
      "cell_type": "markdown",
      "source": [
        "1. $\\exists x\\ E(x) \\rightarrow I(x)$.\n",
        "2. $\\lnot \\forall x\\ L(x) \\rightarrow R(x)$.\n",
        "3. $\\exists x\\ \\rightarrow \\lnot R(x)$.\n",
        "4. $\\exists x\\ E(x) \\rightarrow L(x)$."
      ],
      "metadata": {
        "id": "naH675WO90y2"
      }
    },
    {
      "cell_type": "code",
      "execution_count": null,
      "source": [
        "#@title Hint {display-mode: \"form\"}\n",
        "print('''\n",
        "This should be getting easier.\n",
        "''')"
      ],
      "outputs": [],
      "metadata": {
        "id": "_3Qvx5Gdpofk"
      }
    },
    {
      "cell_type": "code",
      "execution_count": null,
      "source": [
        "#@title Answer {display-mode: \"form\"}\n",
        "from IPython.display import Markdown\n",
        "display(Markdown('''\n",
        "1. $\\\\exists x\\\\ (E(x) \\\\land I(x))$.\n",
        "2. $\\\\lnot \\\\forall x\\\\ L(x) \\\\rightarrow R(x)$. Or, $\\\\exists x\\\\ (L(x) \\\\land \\\\lnot R(x))$.\n",
        "3. $\\\\exists x\\\\ (E(x) \\\\land \\\\lnot R(x))$.\n",
        "4. $\\\\exists x\\\\ (E(x) \\\\land L(x))$.\n",
        "'''))"
      ],
      "outputs": [],
      "metadata": {
        "id": "Y-0vIlXRpwnU"
      }
    },
    {
      "cell_type": "markdown",
      "source": [
        "### Exercise 3.13.5"
      ],
      "metadata": {
        "id": "q3KuZdvPJnBb"
      }
    },
    {
      "cell_type": "markdown",
      "source": [
        "Let $T = $ is a teetotaler,\n",
        "\n",
        "$F = $ is one of my friends,\n",
        "\n",
        "$R =$ is a soldier, and\n",
        "\n",
        "$D =$ is willing to drink. \n",
        "\n",
        "Express each of the following statements using quantifiers, logical connectives, and $T(x)$, $F(x)$, $R(x)$, and $D(x)$.\n",
        "1. No teetotaler is willing to drink.\n",
        "2. No soldiers ever decline a drink.\n",
        "3. All my friends are teetotalers.\n",
        "4. My friends are not soldiers.\n",
        "\n",
        "Does 4 follow logically from 1, 2 and 3? If not, is there a correct conclusion?"
      ],
      "metadata": {
        "id": "vl2hlaLjJnBc"
      }
    },
    {
      "cell_type": "markdown",
      "source": [
        "1. $\\lnot \\forall x\\ T(x) \\rightarrow D(x)$.\n",
        "2. $\\lnot \\forall x\\ R(x) \\rightarrow \\lnot D(x)$.\n",
        "3. $\\forall x\\ F(x) \\rightarrow T(x)$.\n",
        "4. $\\forall x\\ F(x) \\rightarrow \\lnot R(x)$.\n",
        "\n",
        "Yes 4 does follow it logically."
      ],
      "metadata": {
        "id": "K58e0UBR-1ta"
      }
    },
    {
      "cell_type": "code",
      "execution_count": null,
      "source": [
        "#@title Hint {display-mode: \"form\"}\n",
        "print('''\n",
        "This is easier than it looks.\n",
        "''')"
      ],
      "outputs": [],
      "metadata": {
        "id": "wTe4Y3I1JnBc"
      }
    },
    {
      "cell_type": "code",
      "execution_count": null,
      "source": [
        "#@title Answer {display-mode: \"form\"}\n",
        "from IPython.display import Markdown\n",
        "display(Markdown('''\n",
        "1. $\\\\forall x\\\\ T(x) \\\\rightarrow \\\\lnot D(x)$.\n",
        "2. $\\\\forall x\\\\ R(x) \\\\rightarrow D(x)$.\n",
        "3. $\\\\forall x\\\\ F(x) \\\\rightarrow T(x)$.\n",
        "4. $\\\\forall x\\\\ F(x) \\\\rightarrow \\\\lnot R(x)$.\n",
        "'''))\n",
        "print('''\n",
        "Yes, 4 logically follows from 1, 2 and 3.\n",
        "No friend of mine is willing to drink by 1 and 3,\n",
        "and soldiers are willing to drink by 2, so no\n",
        "soldier can be a friend of mine.\n",
        "''')"
      ],
      "outputs": [],
      "metadata": {
        "id": "YrV2Or6fJnBd"
      }
    },
    {
      "cell_type": "markdown",
      "source": [
        "## <font color=red>3.14 Free and Bound</font>"
      ],
      "metadata": {
        "id": "fBouumi6Ej4J"
      }
    },
    {
      "cell_type": "markdown",
      "source": [
        "### Exercise 3.14.1"
      ],
      "metadata": {
        "id": "LwhsPYwyntRL"
      }
    },
    {
      "cell_type": "markdown",
      "source": [
        "Write the formal definitions of **injective** and **surjective** given in Exercise 3.5.1 using quantifier symbols instead of words."
      ],
      "metadata": {
        "id": "NYQJjyswntRN"
      }
    },
    {
      "cell_type": "markdown",
      "source": [
        "Injective is $\\forall m,n \\in A, f(m) \\ne f(n)$ whenever $m \\ne n$\n",
        "\n",
        "Surjective is $\\forall b \\in B, \\exists a \\in A$ such that $f(a) = b$."
      ],
      "metadata": {
        "id": "DgMn5Rcw_3xY"
      }
    },
    {
      "cell_type": "code",
      "execution_count": null,
      "source": [
        "#@title Hint {display-mode: \"form\"}\n",
        "from IPython.display import Markdown\n",
        "display(Markdown('''\n",
        "$\\\\forall m, n \\\\in A$ is short for $\\\\forall m \\\\in A \\\\land \\\\forall n \\\\in A$.\n",
        "'''))"
      ],
      "outputs": [],
      "metadata": {
        "id": "BwO4iY_AntRN"
      }
    },
    {
      "cell_type": "code",
      "execution_count": null,
      "source": [
        "#@title Answer {display-mode: \"form\"}\n",
        "from IPython.display import Markdown\n",
        "display(Markdown('''\n",
        "For $f : A \\\\longrightarrow B$,\n",
        "\n",
        "$f$ is injective means $\\\\forall m,n \\\\in A, f(m) \\\\ne f(n)$ whenever $m \\\\ne n$, and\n",
        "\n",
        "$f$ is surjective means $\\\\forall b \\\\in B, \\\\exists a \\\\in A$ such that $f(a) = b$.\n",
        "'''))"
      ],
      "outputs": [],
      "metadata": {
        "id": "i5ZIL2rxntRO"
      }
    },
    {
      "cell_type": "markdown",
      "source": [
        "### Exercise 3.14.2"
      ],
      "metadata": {
        "id": "pEkbAbC8ntmm"
      }
    },
    {
      "cell_type": "markdown",
      "source": [
        "Translate these statements into English, where the domain for each variable consists of all real numbers.\n",
        "1. $\\exists x \\forall y\\ (x > y)$.\n",
        "2. $\\exists x \\exists y\\ (((x \\ge 0) \\land (y \\ge 0)) \\rightarrow (xy \\ge 0))$.\n",
        "3. $\\exists x \\forall y \\exists z\\ (x = y + z)$."
      ],
      "metadata": {
        "id": "5KaBVs2dntmn"
      }
    },
    {
      "cell_type": "markdown",
      "source": [
        "1. There is a number that is greater than every number\n",
        "2. The result of some positive numbers is positive\n",
        "3. There is a number that is the sum of every number and some other number"
      ],
      "metadata": {
        "id": "AaAPQM2FArNH"
      }
    },
    {
      "cell_type": "code",
      "execution_count": null,
      "source": [
        "#@title Hint {display-mode: \"form\"}\n",
        "print('''\n",
        "It might help to plug in some actual numbers (\"concretize\").\n",
        "''')"
      ],
      "outputs": [],
      "metadata": {
        "id": "QVNtttntntmn"
      }
    },
    {
      "cell_type": "code",
      "execution_count": null,
      "source": [
        "#@title Answer {display-mode: \"form\"}\n",
        "print('''\n",
        "1. Some number is greater than every number.\n",
        "   (Or, there is a greatest number. Clearly false!)\n",
        "2. The product of some nonnegative numbers is nonnegative.\n",
        "3. Some number is the sum of every number and some other number.\n",
        "''')"
      ],
      "outputs": [],
      "metadata": {
        "id": "0kisB8Ymntmo"
      }
    },
    {
      "cell_type": "markdown",
      "source": [
        "### Exercise 3.14.3"
      ],
      "metadata": {
        "id": "o3z70hQintxh"
      }
    },
    {
      "cell_type": "markdown",
      "source": [
        "Let $Q(x, y)$ be the statement &ldquo;$x$ asks $y$ a question&rdquo;, where the domain for both $x$ and $y$ consists of all students in a study group.\n",
        "\n",
        "Express each nested quantification as an English sentence.\n",
        "1. $\\forall x \\exists y\\ Q(x, y)$.\n",
        "2. $\\forall x \\forall y\\ Q(x, y)$.\n",
        "3. $\\exists x \\exists y\\ Q(x, y)$.\n",
        "4. $\\exists x \\forall y\\ Q(x, y)$.\n",
        "5. $\\forall y \\exists x\\ Q(x, y)$.\n",
        "6. $\\exists y \\exists x\\ Q(x, y)$."
      ],
      "metadata": {
        "id": "X4vYB9bMntxh"
      }
    },
    {
      "cell_type": "code",
      "execution_count": null,
      "source": [
        "#@title Hint {display-mode: \"form\"}\n",
        "print('''\n",
        "Use \"every\" and \"some\" (or \"at least one\").\n",
        "''')"
      ],
      "outputs": [],
      "metadata": {
        "id": "aFEAF9Aantxi"
      }
    },
    {
      "cell_type": "code",
      "execution_count": null,
      "source": [
        "#@title Answer {display-mode: \"form\"}\n",
        "print('''\n",
        "1. Every student asks some student a question.\n",
        "2. Every student asks every student a question.\n",
        "3. Some student asks at least one student a question.\n",
        "4. Some student asks every student a question.\n",
        "5. Every student is asked a question by some (or at least one) student.\n",
        "6. Some student asks some student a question. (Another way to say the answer to 3.)\n",
        "''')"
      ],
      "outputs": [],
      "metadata": {
        "id": "MtY47PhCntxi"
      }
    },
    {
      "cell_type": "markdown",
      "source": [
        "### Exercise 3.14.4"
      ],
      "metadata": {
        "id": "b7-egK9ont44"
      }
    },
    {
      "cell_type": "markdown",
      "source": [
        "Let $Q(x, y)$ be &ldquo;$x$ asks $y$ a question&rdquo;, where the domain for both $x$ and $y$ consists of all people at your school.\n",
        "\n",
        "Express each of the sentences below in terms of $Q(x, y)$, quantifiers, and logical connectives.\n",
        "\n",
        "(To distinguish different roles for people, use the predicates $S(x) = x$ is a student, $T(x) = x$ is a teacher, and $A(x) = x$ is a TA.) \n",
        "1. No student has ever asked a teacher a question.\n",
        "2. There is a student who has asked a teacher a question.\n",
        "3. Every student has asked a teacher and a TA a question.\n",
        "4. At least two students have asked a teacher a question."
      ],
      "metadata": {
        "id": "NLIaPtFunt44"
      }
    },
    {
      "cell_type": "code",
      "execution_count": null,
      "source": [
        "#@title Hint {display-mode: \"form\"}\n",
        "print('''\n",
        "The last two need three quantifiers.\n",
        "''')"
      ],
      "outputs": [],
      "metadata": {
        "id": "Cw4eg2j8nt44"
      }
    },
    {
      "cell_type": "code",
      "execution_count": null,
      "source": [
        "#@title Answer {display-mode: \"form\"}\n",
        "from IPython.display import Markdown\n",
        "display(Markdown('''\n",
        "1. $\\\\forall x \\\\forall y\\\\ S(x) \\land T(y) \\\\rightarrow \\\\lnot Q(x, y)$.\n",
        "2. $\\\\exists x \\\\exists y\\\\ S(x) \\\\land T(y) \\\\land Q(x, y)$.\n",
        "3. $\\\\forall x \\\\exists y \\\\exists z\\\\ S(x) \\\\land T(y) \\\\land A(z) \\\\rightarrow (Q(x, y) \\\\land Q(x, z))$.\n",
        "4. $\\\\exists x \\\\exists y \\\\exists z\\\\ S(x) \\\\land S(y) \\\\land x \\\\ne y \\\\land T(z) \\\\land Q(x, z) \\\\land Q(y, z)$.\n",
        "'''))"
      ],
      "outputs": [],
      "metadata": {
        "id": "eW1TOlAXnt44"
      }
    },
    {
      "cell_type": "markdown",
      "source": [
        "### Exercise 3.14.5"
      ],
      "metadata": {
        "id": "CeiyKAPJnt-f"
      }
    },
    {
      "cell_type": "markdown",
      "source": [
        "Let $T(x, y)$ be $x$ has taught $y$, where the domain for $x$ is all teachers teaching in some department, and the domain for $y$ is all classes taught in that department.\n",
        "\n",
        "Express each of these sentences in terms of $T(x, y)$, quantifiers, and logical connectives:\n",
        "1. No teacher has taught every class.\n",
        "2. Every teacher has taught every class.\n",
        "3. Every teacher has taught some class.\n",
        "4. At least two teachers have taught a class."
      ],
      "metadata": {
        "id": "v1c70rXjnt-g"
      }
    },
    {
      "cell_type": "code",
      "execution_count": null,
      "source": [
        "#@title Hint {display-mode: \"form\"}\n",
        "print('''\n",
        "The last one needs three quantifiers binding three different variables.\n",
        "''')"
      ],
      "outputs": [],
      "metadata": {
        "id": "rbdxE_VNnt-g"
      }
    },
    {
      "cell_type": "code",
      "execution_count": null,
      "source": [
        "#@title Answer {display-mode: \"form\"}\n",
        "from IPython.display import Markdown\n",
        "display(Markdown('''\n",
        "1. $\\\\lnot \\\\exists x \\\\forall y\\\\ T(x, y)$. Better as $\\\\forall x \\\\exists y\\\\ \\\\lnot T(x, y)$.\n",
        "2. $\\\\forall x \\\\forall y\\\\ T(x, y)$.\n",
        "3. $\\\\forall x \\\\exists y\\\\ T(x, y)$.\n",
        "4. $\\\\exists x \\\\exists y \\\\exists z\\\\ T(x, z) \\\\land T(y, z) \\\\land x \\\\ne y$.\n",
        "'''))"
      ],
      "outputs": [],
      "metadata": {
        "id": "sWT20-9Gnt-g"
      }
    },
    {
      "cell_type": "markdown",
      "source": [
        "### Exercise 3.14.6"
      ],
      "metadata": {
        "id": "MWtpv_OxnuD0"
      }
    },
    {
      "cell_type": "markdown",
      "source": [
        "Use quantifiers and predicates, some with two variables, to express these statements **and** their negations:\n",
        "1. Every student needs a laptop.\n",
        "2. No student has been in every building on campus.\n",
        "3. Exactly one student has been in every room of exactly one building on campus.\n",
        "4. Every student has been in at least one room of every building on campus."
      ],
      "metadata": {
        "id": "YYp9r7N1nuD0"
      }
    },
    {
      "cell_type": "markdown",
      "source": [
        "1. $\\forall x\\ S(x) \\rightarrow N(x, laptop)$. Negations: $\\exists x\\ S(x) \\land \\lnot N(x, laptop)$.\n",
        "2. $\\forall x \\exists y\\ [S(x) \\land B(y) \\land \\lnot I(x, y)]$. Negations: $\\exists x \\forall y\\ [\\lnot S(x) \\lor \\lnot B(y) \\lor I(x, y)]$.\n",
        "3. $\\exists! x \\forall y \\exists! z\\ [(S(x) \\land R(y, z) \\land B(z)) \\rightarrow I(x, y)]$. Negations: $\\forall x \\exists y \\forall z\\ [S(x) \\land R(y, z) \\land B(z) \\land \\lnot I(x, y)]$.\n",
        "4. $\\forall s\\ \\forall b\\ \\exists r\\ [R(r, b) \\land I(s, r)]$ Negations: $\\exists s\\ \\exists b\\ \\forall r\\ [R(r, b) \\rightarrow \\lnot I(s, r)]$."
      ],
      "metadata": {
        "id": "57oqMHTyBsre"
      }
    },
    {
      "cell_type": "code",
      "execution_count": null,
      "source": [
        "#@title Hint {display-mode: \"form\"}\n",
        "from IPython.display import Markdown\n",
        "display(Markdown('''\n",
        "Use the predicates:\\\\\n",
        "$S(x) = x$ is a student,\\\\\n",
        "$N(x, y) = x$ needs $y$,\\\\\n",
        "$B(x) = x$ is a building on campus,\\\\\n",
        "$R(x, y) = x$ is a room in building $y$, and\\\\\n",
        "$I(x, y) = x$ has been in $y$.\n",
        "'''))"
      ],
      "outputs": [],
      "metadata": {
        "id": "RNZzWQ5QnuD0"
      }
    },
    {
      "cell_type": "code",
      "execution_count": null,
      "source": [
        "#@title Answer {display-mode: \"form\"}\n",
        "from IPython.display import Markdown\n",
        "display(Markdown('''\n",
        "1. $\\\\forall x\\\\ S(x) \\\\rightarrow N(x, laptop)$.\n",
        "2. $\\\\forall x \\\\exists y\\\\ [S(x) \\\\land B(y) \\\\land \\\\lnot I(x, y)]$.\n",
        "3. $\\\\exists! x \\\\forall y \\\\exists! z\\\\ [(S(x) \\\\land R(y, z) \\\\land B(z)) \\\\rightarrow I(x, y)]$.\n",
        "4. $\\\\forall s\\\\ \\\\forall b\\\\ \\\\exists r\\\\ [R(r, b) \\\\land I(s, r)]$\n",
        "\n",
        "Negations:\n",
        "\n",
        "1. $\\\\exists x\\\\ S(x) \\\\land \\\\lnot N(x, laptop)$.\n",
        "2. $\\\\exists x \\\\forall y\\\\ [\\\\lnot S(x) \\\\lor \\\\lnot B(y) \\\\lor I(x, y)]$.\n",
        "3. $\\\\forall x \\\\exists y \\\\forall z\\\\ [S(x) \\\\land R(y, z) \\\\land B(z) \\\\land \\\\lnot I(x, y)]$.\n",
        "4. $\\\\exists s\\\\ \\\\exists b\\\\ \\\\forall r\\\\ [R(r, b) \\\\rightarrow \\\\lnot I(s, r)]$.\n",
        "'''))"
      ],
      "outputs": [],
      "metadata": {
        "id": "_NmylLwAnuD1"
      }
    },
    {
      "cell_type": "markdown",
      "source": [
        "### Exercise 3.14.7"
      ],
      "metadata": {
        "id": "lp9AU1x_nuJD"
      }
    },
    {
      "cell_type": "markdown",
      "source": [
        "Express each of these statements using predicates, quantifiers, logical connectives, and mathematical operators where the domain consists of all integers.\n",
        "1. The average of two numbers is not greater than those two numbers.\n",
        "2. The product of a positive number and a negative number is negative.\n",
        "3. There is no solution in radicals to a quintic equation.\n",
        "4. All positive numbers are greater than all negative numbers."
      ],
      "metadata": {
        "id": "I62y-IpZnuJD"
      }
    },
    {
      "cell_type": "markdown",
      "source": [
        "1. $\\forall x \\forall y\\ ((x + y)/2 \\le x) \\lor ((x + y)/2 \\le y)$.\n",
        "2. $\\forall x \\forall y\\ (((x > 0) \\land (y < 0)) \\rightarrow xy < 0)$.\n",
        "3. $\\forall x\\ IsQuinticEquation(x) \\rightarrow \\lnot HasSolutionInRadicals(x)$.\n",
        "4. $\\forall x \\forall y\\ (((x > 0) \\land (y < 0)) \\rightarrow x > y)$."
      ],
      "metadata": {
        "id": "9eMekcw8CuG_"
      }
    },
    {
      "cell_type": "code",
      "execution_count": null,
      "source": [
        "#@title Hint {display-mode: \"form\"}\n",
        "print('''\n",
        "Both the second one and the fourth one need an implication.\n",
        "All involve two universal quantifiers except the third one,\n",
        "which involves just one after applying De Morgan's rule for\n",
        "negating quantified statements.\n",
        "''')"
      ],
      "outputs": [],
      "metadata": {
        "id": "C5m_Nw-6nuJD"
      }
    },
    {
      "cell_type": "code",
      "execution_count": null,
      "source": [
        "#@title Answer {display-mode: \"form\"}\n",
        "from IPython.display import Markdown\n",
        "display(Markdown('''\n",
        "1. $\\\\forall x \\\\forall y\\\\ ((x + y)/2 \\\\le x) \\\\lor ((x + y)/2 \\\\le y)$.\n",
        "2. $\\\\forall x \\\\forall y\\\\ (((x > 0) \\\\land (y < 0)) \\\\rightarrow xy < 0)$.\n",
        "3. $\\\\forall x\\\\ IsQuinticEquation(x) \\\\rightarrow \\\\lnot HasSolutionInRadicals(x)$.\n",
        "4. $\\\\forall x \\\\forall y\\\\ (((x > 0) \\\\land (y < 0)) \\\\rightarrow x > y)$.\n",
        "'''))\n",
        "print('''\n",
        "\n",
        "''')"
      ],
      "outputs": [],
      "metadata": {
        "id": "cATvO312nuJD"
      }
    },
    {
      "cell_type": "markdown",
      "source": [
        "### Exercise 3.14.8"
      ],
      "metadata": {
        "id": "tI4hCz0PnuOA"
      }
    },
    {
      "cell_type": "markdown",
      "source": [
        "Express the statement &ldquo;no prime number has 3 factors&rdquo; using predicates, quantifiers, logical connectives, and mathematical operators."
      ],
      "metadata": {
        "id": "9dUIVe1BnuOA"
      }
    },
    {
      "cell_type": "markdown",
      "source": [
        "$\\forall p \\forall x \\forall y \\forall z\\ [Prime(p) \\land x > 1 \\land y > 1 \\land z > 1 \\rightarrow p \\ne xyz]$.\n",
        "\n",
        "You made it seem so simple with just one sentence! "
      ],
      "metadata": {
        "id": "yUsTZjwWDa4H"
      }
    },
    {
      "cell_type": "code",
      "execution_count": null,
      "source": [
        "#@title Hint {display-mode: \"form\"}\n",
        "print('''\n",
        "This needs four universal quantifiers binding four different variables,\n",
        "and it definitely calls for an application of the gersy principle!\n",
        "''')"
      ],
      "outputs": [],
      "metadata": {
        "id": "nltJNSkHnuOA"
      }
    },
    {
      "cell_type": "code",
      "execution_count": null,
      "source": [
        "#@title Answer {display-mode: \"form\"}\n",
        "from IPython.display import Markdown\n",
        "display(Markdown('''\n",
        "$\\\\forall p \\\\forall x \\\\forall y \\\\forall z\\\\ [Prime(p) \\\\land x > 1 \\\\land y > 1 \\\\land z > 1 \\\\rightarrow p \\\\ne xyz]$.\n",
        "'''))"
      ],
      "outputs": [],
      "metadata": {
        "id": "gS-flXl_nuOA"
      }
    },
    {
      "cell_type": "markdown",
      "source": [
        "### Exercise 3.14.9"
      ],
      "metadata": {
        "id": "Wcbf55P9nuSk"
      }
    },
    {
      "cell_type": "markdown",
      "source": [
        "If the domain for $x$ and $y$ is $\\mathbb{Z}$, what are the truth values of these statements?\n",
        "1. $\\forall x \\forall y\\ ((x \\ne 0) \\land (y \\ne 0) \\leftrightarrow (xy \\ne 0))$.\n",
        "2. $\\exists x \\forall y\\ (x + y > y)$.\n",
        "3. $\\exists x \\forall y\\ (x + y < y)$.\n",
        "4. $\\exists !x \\forall y\\ (x + y = y)$."
      ],
      "metadata": {
        "id": "mUnYPiOenuSk"
      }
    },
    {
      "cell_type": "markdown",
      "source": [
        "1. True\n",
        "2. True\n",
        "3. True\n",
        "4. True\n",
        "\n",
        "They all look like they are true."
      ],
      "metadata": {
        "id": "doiuFHivD9UQ"
      }
    },
    {
      "cell_type": "code",
      "execution_count": null,
      "source": [
        "#@title Hint {display-mode: \"form\"}\n",
        "from IPython.display import Markdown\n",
        "display(Markdown('''\n",
        "Recall that $\\mathbb{Z}$ is the set of all integers.\n",
        "'''))"
      ],
      "outputs": [],
      "metadata": {
        "id": "0e57F8UBnuSk"
      }
    },
    {
      "cell_type": "code",
      "execution_count": null,
      "source": [
        "#@title Answer {display-mode: \"form\"}\n",
        "print('''\n",
        "All of these are true.\n",
        "''')"
      ],
      "outputs": [],
      "metadata": {
        "id": "EC1baG_pnuSl"
      }
    },
    {
      "cell_type": "markdown",
      "source": [
        "### Exercise 3.14.10"
      ],
      "metadata": {
        "id": "rIMeagPYnuXG"
      }
    },
    {
      "cell_type": "markdown",
      "source": [
        "What are the truth values of the expressions below if $T(x, y)$ is $xy < y$, where the domain for both $x$ and $y$ is $\\mathbb{Z}$?\n",
        "1. $T(0, 5)$.\n",
        "2. $T(1, 1)$.\n",
        "3. $T(7, -3)$.\n",
        "4. $\\exists x \\forall y\\ T(x, y)$.\n",
        "5. $\\exists x\\ T(x, 2)$.\n",
        "6. $\\forall y\\ T(9, y)$.\n",
        "7. $\\forall x \\forall y\\ T(x, y)$.\n",
        "8. $\\forall x \\exists y\\ T(x, y)$."
      ],
      "metadata": {
        "id": "iDxpANcrnuXG"
      }
    },
    {
      "cell_type": "markdown",
      "source": [
        "1. True\n",
        "2. False\n",
        "3. True\n",
        "4. False\n",
        "5. True\n",
        "6. False\n",
        "7. False\n",
        "8. True"
      ],
      "metadata": {
        "id": "77s1A0dBEPDL"
      }
    },
    {
      "cell_type": "code",
      "execution_count": null,
      "source": [
        "#@title Hint {display-mode: \"form\"}\n",
        "from IPython.display import Markdown\n",
        "display(Markdown('''\n",
        "Write some code that implements the $T$ predicate and tests it.\n",
        "'''))"
      ],
      "outputs": [],
      "metadata": {
        "id": "byo_cFATnuXG"
      }
    },
    {
      "cell_type": "code",
      "execution_count": null,
      "source": [
        "#@title Answer {display-mode: \"form\"}\n",
        "print('''\n",
        "1. True\n",
        "2. False\n",
        "3. True\n",
        "4. False\n",
        "5. True\n",
        "6. False\n",
        "7. False\n",
        "8. True\n",
        "''')"
      ],
      "outputs": [],
      "metadata": {
        "id": "3zGQToL8nuXH"
      }
    },
    {
      "cell_type": "markdown",
      "source": [
        "### Exercise 3.14.11"
      ],
      "metadata": {
        "id": "aY9iKjFgnubW"
      }
    },
    {
      "cell_type": "markdown",
      "source": [
        "Determine the truth value of the statement $\\forall x \\exists y\\ (x - y \\ge x)$ if the domain for $x$ and $y$ is\n",
        "1. the real numbers.\n",
        "2. the natural numbers, including 0.\n",
        "3. the negative integers.\n",
        "4. the rational numbers."
      ],
      "metadata": {
        "id": "MK2pb-EgnubX"
      }
    },
    {
      "cell_type": "markdown",
      "source": [
        "1. True\n",
        "2. True\n",
        "3. True\n",
        "4. True\n",
        "\n",
        "Am I losing my mind or do you keep making certain sections all true?"
      ],
      "metadata": {
        "id": "SHBPfqcXEfDz"
      }
    },
    {
      "cell_type": "code",
      "execution_count": null,
      "source": [
        "#@title Hint {display-mode: \"form\"}\n",
        "print('''\n",
        "Plug in concrete numbers if necessary.\n",
        "''')"
      ],
      "outputs": [],
      "metadata": {
        "id": "CJbyrHnMnubX"
      }
    },
    {
      "cell_type": "code",
      "execution_count": null,
      "source": [
        "#@title Answer {display-mode: \"form\"}\n",
        "print('''\n",
        "All of these are true.\n",
        "''')"
      ],
      "outputs": [],
      "metadata": {
        "id": "bqZP9wSbnubX"
      }
    },
    {
      "cell_type": "markdown",
      "source": [
        "### Exercise 3.14.12"
      ],
      "metadata": {
        "id": "8FFxFKP-nvUS"
      }
    },
    {
      "cell_type": "markdown",
      "source": [
        "Another highly useful higher-order function is ```filter```, which takes a predicate and a sequence and creates a new sequence filtered through the predicate. Items in the original sequence for which the predicate returns true remain, if false they are filtered out.\n",
        "\n",
        "For example, the following prints out a list of the first three odds:"
      ],
      "metadata": {
        "id": "yRdlC3L4nvUS"
      }
    },
    {
      "cell_type": "code",
      "execution_count": null,
      "source": [
        "print(list(filter(lambda x: x % 2 == 1, range(1, 7))))"
      ],
      "outputs": [],
      "metadata": {
        "id": "1qG2aWl2B4yY"
      }
    },
    {
      "cell_type": "markdown",
      "source": [
        "Write a function called ```summer``` (that has nothing to do with sums or series) and make it so the summer months (June, July, August) are kept and the others discarded when passing ```summer``` to ```filter``` with the list:\n"
      ],
      "metadata": {
        "id": "OrMvJwxJB-ak"
      }
    },
    {
      "cell_type": "code",
      "execution_count": null,
      "source": [
        "months = ['January', 'February', 'March',\n",
        "          'April', 'May', 'June',\n",
        "          'July','August', 'September',\n",
        "          'October', 'November', 'December']"
      ],
      "outputs": [],
      "metadata": {
        "id": "yVMK4CPJCCYl"
      }
    },
    {
      "cell_type": "code",
      "execution_count": null,
      "source": [
        "#@title Hint {display-mode: \"form\"}\n",
        "print('''\n",
        "Make the filter code as efficient as possible.\n",
        "''')"
      ],
      "outputs": [],
      "metadata": {
        "id": "08Mlexa1nvUT"
      }
    },
    {
      "cell_type": "code",
      "execution_count": null,
      "source": [
        "#@title Answer {display-mode: \"form\"}\n",
        "# Exploit the fact that the summer months all have\n",
        "# a 'u' as their second letter:\n",
        "def summer(month):\n",
        "  return month[1] == 'u'\n",
        "\n",
        "list(filter(summer, months))"
      ],
      "outputs": [],
      "metadata": {
        "id": "IGpHRvX0nvUT"
      }
    },
    {
      "cell_type": "markdown",
      "source": [
        "### Exercise 3.14.13"
      ],
      "metadata": {
        "id": "EddlWVIRs-XA"
      }
    },
    {
      "cell_type": "markdown",
      "source": [
        "In the spirit of nested quantifiers, define a &ldquo;nested filter&rdquo; creator function.\n",
        "\n",
        "This is a function that takes two parameters, ```m``` and ```r```, and returns a ```lambda``` filter with parameter ```x``` and expression ```(x % m) == r```.\n",
        "\n",
        "Call this function with three different pairs of values for ```m``` and ```r``` to create three filters.\n",
        "\n",
        "Apply these filters to the ```range(0, 100)``` and print lists of the filtered results.\n",
        "\n",
        "Where have you seen this type of list before?"
      ],
      "metadata": {
        "id": "VgnZsF5Gs7kC"
      }
    },
    {
      "cell_type": "code",
      "execution_count": null,
      "source": [
        "#@title Hint {display-mode: \"form\"}\n",
        "print('''\n",
        "This foreshadows some number theoretic concepts coming later,\n",
        "but introduced in Chapter 4 with the TLA CMM.\n",
        "''')"
      ],
      "outputs": [],
      "metadata": {
        "id": "o9VkcOMhs-XD"
      }
    },
    {
      "cell_type": "code",
      "execution_count": null,
      "source": [
        "#@title Answer {display-mode: \"form\"}\n",
        "def create_filter(m, r):\n",
        "  \"\"\"Seen before as arithmetic progressions.\n",
        "  \"\"\"\n",
        "  return lambda x: (x % m) == r\n",
        "\n",
        "f53 = create_filter(5, 3)\n",
        "\n",
        "f74 = create_filter(7, 4)\n",
        "\n",
        "f118 = create_filter(11, 8)\n",
        "\n",
        "print(list(filter(f53, range(100))))\n",
        "\n",
        "print(list(filter(f74, range(100))))\n",
        "\n",
        "print(list(filter(f118, range(100))))"
      ],
      "outputs": [],
      "metadata": {
        "id": "Hdj-iZxDs-XE"
      }
    },
    {
      "cell_type": "markdown",
      "source": [
        "### Exercise 3.14.14"
      ],
      "metadata": {
        "id": "BdBEczWUBR6b"
      }
    },
    {
      "cell_type": "markdown",
      "source": [
        "Write a predicate for which the call to the ```test_predicate``` function shown below returns True. (You'll need your ```forall```\n",
        "function too.)"
      ],
      "metadata": {
        "id": "3vw7BIetBR6c"
      }
    },
    {
      "cell_type": "code",
      "execution_count": null,
      "source": [
        "def test_predicate(predicate):\n",
        "  return forall(predicate, [['Discrete', 8], ['Math', 8],\n",
        "                            ['Is', 6], ['Awesome', 28]]) and \\\n",
        "         not forall(predicate, [['Oracle', 0], ['Apple', 11],\n",
        "                                ['Microsoft', -18], ['Google', 25]])\n",
        "\n",
        "def my_predicate(data):\n",
        "  # YOUR ANSWER GOES HERE\n",
        "  raise NotImplementedError\n",
        "  \n",
        "print(test_predicate(my_predicate))"
      ],
      "outputs": [],
      "metadata": {
        "id": "KLJ4PgppEQJB"
      }
    },
    {
      "cell_type": "code",
      "execution_count": null,
      "source": [
        "#@title Hint {display-mode: \"form\"}\n",
        "print('''\n",
        "This will require some thought. But it's simpler than it looks.\n",
        "Put your code (a one-liner) in the place of the line that says\n",
        "\"YOUR ANSWER GOES HERE\". After doing so, you can remove the\n",
        "\"raise NotImplementedError\" line, or leave it, it won't matter.\n",
        "''')"
      ],
      "outputs": [],
      "metadata": {
        "id": "VPSoJdn7BR6e"
      }
    },
    {
      "cell_type": "code",
      "execution_count": null,
      "source": [
        "#@title Answer {display-mode: \"form\"}\n",
        "def my_predicate(data):\n",
        "  \"\"\"Returns whether or not the length of the word\n",
        "     data[0] divides the number data[1] evenly.\n",
        "  \"\"\"\n",
        "  return data[1] % len(data[0]) == 0"
      ],
      "outputs": [],
      "metadata": {
        "id": "gKtA71NdBR6f"
      }
    }
  ],
  "metadata": {
    "colab": {
      "name": "chapter-3-predicates-and-quantifiers-exercises.ipynb",
      "private_outputs": true,
      "provenance": [],
      "collapsed_sections": [
        "Fd-nWFj1foSb",
        "LOidAiIjpGFO",
        "le4z-RBmuh6p",
        "IXDTyw-qG83G",
        "huTlmPImune6",
        "9Idm_9Dqv6kY",
        "Ps9VWGU6w5PO",
        "q3KuZdvPJnBb",
        "LwhsPYwyntRL",
        "pEkbAbC8ntmm",
        "MWtpv_OxnuD0",
        "lp9AU1x_nuJD",
        "tI4hCz0PnuOA",
        "Wcbf55P9nuSk",
        "rIMeagPYnuXG",
        "aY9iKjFgnubW"
      ],
      "toc_visible": true,
      "include_colab_link": true
    },
    "kernelspec": {
      "display_name": "Python 3",
      "language": "python",
      "name": "python3"
    },
    "language_info": {
      "codemirror_mode": {
        "name": "ipython",
        "version": 3
      },
      "file_extension": ".py",
      "mimetype": "text/x-python",
      "name": "python",
      "nbconvert_exporter": "python",
      "pygments_lexer": "ipython3",
      "version": "3.9.0"
    }
  },
  "nbformat": 4,
  "nbformat_minor": 0
}